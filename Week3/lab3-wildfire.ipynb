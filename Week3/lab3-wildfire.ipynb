{
 "cells": [
  {
   "cell_type": "code",
   "execution_count": 1,
   "id": "6d41e7de-5f0c-4baf-a37f-ec5dbe4f7428",
   "metadata": {
    "tags": []
   },
   "outputs": [],
   "source": [
    "# Imports\n",
    "import pandas as pd\n",
    "import numpy as np\n",
    "from sklearn.model_selection import train_test_split\n",
    "from sklearn.preprocessing import StandardScaler\n",
    "from sklearn.linear_model import LogisticRegression\n",
    "from sklearn.dummy import DummyClassifier\n",
    "from sklearn.metrics import accuracy_score, confusion_matrix, classification_report, roc_curve, roc_auc_score, ConfusionMatrixDisplay\n",
    "import matplotlib.pyplot as plt\n",
    "import seaborn as sns\n"
   ]
  },
  {
   "cell_type": "markdown",
   "id": "e492775e-957c-40b4-b64f-5de93dbea5e1",
   "metadata": {},
   "source": [
    "# Lab 4: Fire and Tree Mortality\n",
    "\n",
    "# About the data\n",
    "Wildfires are increasingly frequent and severe due to climate change. Predicting tree mortality following a wildfire is critical for forest management, ecosystem recovery, and carbon sequestration planning. In this lab, we will build a logistic regression model to predict the probability of tree mortality one year after a wildfire\n",
    "\n",
    "The database we'll be working with today includes observations of individual trees involved in prescribed fires and wildfires occurring over 35 years, from 1981 to 2016. It is drawn from a fire and tree mortality database from the US Forest Service (see data description for the full database here: [link](https://www.nature.com/articles/s41597-020-0522-7#Sec10)).\n",
    "\n",
    "The target variable we'll use is `yr1status`, which is a binary variable (0=alive, 1=dead).  This tells us if a tree has died one year after a fire event.\n",
    "\n",
    "The features we'll use are `YrFireName`, `Times_burned`, `Species`, `Genus_species`,\n",
    "    `DBH_cm`, `HT_m`, `CR_pre`, and `CR_post`."
   ]
  },
  {
   "cell_type": "markdown",
   "id": "8f2c5ce6-eb43-4544-8b88-c306a7618c85",
   "metadata": {},
   "source": [
    "## Step 1: Check the metadata\n",
    "\n",
    "Look at the metadata and provide a description on what each variable represents in the Description column below.\n"
   ]
  },
  {
   "cell_type": "markdown",
   "id": "c7b239ac-123f-4458-bf2c-fc46dcf5cc0a",
   "metadata": {},
   "source": [
    "| Feature                     | Description                                                                                   |\n",
    "|-----------------------------|-----------------------------------------------------------------------------------------------| \n",
    "| yr1status                   | Tree status in year 1 post-fire. (0=alive, 1=dead)\n",
    "| YrFireName                  | A unique identifier for each fire event that includes the year and fire name; YEAR - Fire         \n",
    "| Times_burned                | The number of times this tree was burned                                             \n",
    "| Species                     | First two letters of genus and species. 2TREE = unknown tree species                               \n",
    "| Genus_species               | Genus and species of tree                                     \n",
    "| DBH_cm                      | Diameter at breast height rounded to nearest 0.1 cm\n",
    "| HT_m                        | Pre-fire tree height rounded to nearest 0.01 m\n",
    "| CR_pre                      | Pre-fire live crown ratio. Crown length divided by tree height\n",
    "| CR_post                     | Post-fire live crown ratio. Crown length divided by tree height"
   ]
  },
  {
   "cell_type": "markdown",
   "id": "55d355a0",
   "metadata": {},
   "source": [
    "## Step 2: Fetch  data\n",
    "Read in the data set and filter to retain only the variables of interest.  Then check for incomplete observations and remove any rows containing NaNs.  How many observations does that leave us with? **Print your answer.**"
   ]
  },
  {
   "cell_type": "code",
   "execution_count": 2,
   "id": "ac926dc2",
   "metadata": {
    "tags": []
   },
   "outputs": [
    {
     "name": "stderr",
     "output_type": "stream",
     "text": [
      "/tmp/ipykernel_1261058/1765753220.py:2: DtypeWarning: Columns (4,5,6,7,10,62,63) have mixed types. Specify dtype option on import or set low_memory=False.\n",
      "  trees_dat = pd.read_csv('/courses/EDS232/Data/FTM_trees.csv')\n"
     ]
    }
   ],
   "source": [
    "# Load the dataset\n",
    "trees_dat = pd.read_csv('/courses/EDS232/Data/FTM_trees.csv')"
   ]
  },
  {
   "cell_type": "code",
   "execution_count": 3,
   "id": "e344cf4d-6086-41bb-81dd-9f27b08c00b5",
   "metadata": {
    "tags": []
   },
   "outputs": [
    {
     "name": "stdout",
     "output_type": "stream",
     "text": [
      "   yr1status     YrFireName  Times_burned Species Genus_species  DBH_cm  \\\n",
      "0        1.0  2006 - Tripod             1   2TREE       Unknown  26.416   \n",
      "1        1.0  2006 - Tripod             1   2TREE       Unknown   1.270   \n",
      "2        1.0  2006 - Tripod             1   2TREE       Unknown  25.400   \n",
      "3        1.0  2006 - Tripod             1   2TREE       Unknown   8.382   \n",
      "4        1.0  2006 - Tripod             1   2TREE       Unknown  21.844   \n",
      "\n",
      "    HT_m  CR_pre  CR_post  \n",
      "0  21.03     NaN      NaN  \n",
      "1   2.13    0.29      NaN  \n",
      "2  18.29     NaN      NaN  \n",
      "3  14.33    0.38      NaN  \n",
      "4  11.89     NaN      NaN  \n",
      "Removing rows containing NAs removed 133334 rows, leaving us with 36509 observations.\n"
     ]
    }
   ],
   "source": [
    "# Filter to variables of interest\n",
    "trees_dat = trees_dat[[\"yr1status\", \"YrFireName\", \"Times_burned\", \"Species\", \"Genus_species\", \"DBH_cm\", \"HT_m\", \"CR_pre\", \"CR_post\"]]\n",
    "\n",
    "# Look at the df \n",
    "print(trees_dat.head())\n",
    "\n",
    "# Count observations before dropping NA\n",
    "number_obs = trees_dat.shape[0]\n",
    "\n",
    "# Remove rows containing NA\n",
    "trees_dat = trees_dat.dropna()\n",
    "\n",
    "# Count observations after dropping NA\n",
    "number_obs_post = trees_dat.shape[0]\n",
    "\n",
    "print(f\"Removing rows containing NAs removed {number_obs - number_obs_post} rows, leaving us with {number_obs_post} observations.\")"
   ]
  },
  {
   "cell_type": "markdown",
   "id": "aaf806bf",
   "metadata": {},
   "source": [
    "## Step 3: Data Preprocessing\n",
    "1. We recode categorical predictors to zero-based integer form because most machine learning models, including logistic regression, cannot work directly with categorical data represented as strings or labels. Instead, models require numerical input. Let's do that here. \n"
   ]
  },
  {
   "cell_type": "code",
   "execution_count": 4,
   "id": "1e41fb79-ad31-4162-ac76-887461bb4160",
   "metadata": {
    "tags": []
   },
   "outputs": [
    {
     "data": {
      "text/plain": [
       "yr1status        float64\n",
       "YrFireName        object\n",
       "Times_burned       int64\n",
       "Species           object\n",
       "Genus_species     object\n",
       "DBH_cm           float64\n",
       "HT_m             float64\n",
       "CR_pre           float64\n",
       "CR_post          float64\n",
       "dtype: object"
      ]
     },
     "execution_count": 4,
     "metadata": {},
     "output_type": "execute_result"
    }
   ],
   "source": [
    "# Check data types\n",
    "trees_dat.dtypes"
   ]
  },
  {
   "cell_type": "code",
   "execution_count": 5,
   "id": "b113e803-c0b2-4a17-9f0f-70a313c5f308",
   "metadata": {
    "tags": []
   },
   "outputs": [],
   "source": [
    "# Recode categorical predictors\n",
    "for col in ['YrFireName', 'Species', 'Genus_species']:\n",
    "    trees_dat[f\"{col}_cat\"] = trees_dat[col].astype('category').cat.codes"
   ]
  },
  {
   "cell_type": "code",
   "execution_count": 6,
   "id": "23fe55ca-92df-480a-ade1-09d4ecca0d74",
   "metadata": {
    "tags": []
   },
   "outputs": [
    {
     "data": {
      "text/html": [
       "<div>\n",
       "<style scoped>\n",
       "    .dataframe tbody tr th:only-of-type {\n",
       "        vertical-align: middle;\n",
       "    }\n",
       "\n",
       "    .dataframe tbody tr th {\n",
       "        vertical-align: top;\n",
       "    }\n",
       "\n",
       "    .dataframe thead th {\n",
       "        text-align: right;\n",
       "    }\n",
       "</style>\n",
       "<table border=\"1\" class=\"dataframe\">\n",
       "  <thead>\n",
       "    <tr style=\"text-align: right;\">\n",
       "      <th></th>\n",
       "      <th>yr1status</th>\n",
       "      <th>YrFireName</th>\n",
       "      <th>Times_burned</th>\n",
       "      <th>Species</th>\n",
       "      <th>Genus_species</th>\n",
       "      <th>DBH_cm</th>\n",
       "      <th>HT_m</th>\n",
       "      <th>CR_pre</th>\n",
       "      <th>CR_post</th>\n",
       "      <th>YrFireName_cat</th>\n",
       "      <th>Species_cat</th>\n",
       "      <th>Genus_species_cat</th>\n",
       "    </tr>\n",
       "  </thead>\n",
       "  <tbody>\n",
       "    <tr>\n",
       "      <th>500</th>\n",
       "      <td>0.0</td>\n",
       "      <td>2003 - Griff</td>\n",
       "      <td>1</td>\n",
       "      <td>ABAM</td>\n",
       "      <td>Abies_amabilis</td>\n",
       "      <td>71.374</td>\n",
       "      <td>41.76</td>\n",
       "      <td>0.84</td>\n",
       "      <td>0.74</td>\n",
       "      <td>37</td>\n",
       "      <td>0</td>\n",
       "      <td>0</td>\n",
       "    </tr>\n",
       "    <tr>\n",
       "      <th>501</th>\n",
       "      <td>0.0</td>\n",
       "      <td>2003 - Griff</td>\n",
       "      <td>1</td>\n",
       "      <td>ABAM</td>\n",
       "      <td>Abies_amabilis</td>\n",
       "      <td>23.622</td>\n",
       "      <td>12.80</td>\n",
       "      <td>0.60</td>\n",
       "      <td>0.57</td>\n",
       "      <td>37</td>\n",
       "      <td>0</td>\n",
       "      <td>0</td>\n",
       "    </tr>\n",
       "    <tr>\n",
       "      <th>502</th>\n",
       "      <td>0.0</td>\n",
       "      <td>2003 - Griff</td>\n",
       "      <td>1</td>\n",
       "      <td>ABAM</td>\n",
       "      <td>Abies_amabilis</td>\n",
       "      <td>46.228</td>\n",
       "      <td>34.75</td>\n",
       "      <td>0.75</td>\n",
       "      <td>0.59</td>\n",
       "      <td>37</td>\n",
       "      <td>0</td>\n",
       "      <td>0</td>\n",
       "    </tr>\n",
       "    <tr>\n",
       "      <th>503</th>\n",
       "      <td>0.0</td>\n",
       "      <td>2003 - Griff</td>\n",
       "      <td>1</td>\n",
       "      <td>ABAM</td>\n",
       "      <td>Abies_amabilis</td>\n",
       "      <td>21.082</td>\n",
       "      <td>23.16</td>\n",
       "      <td>0.38</td>\n",
       "      <td>0.38</td>\n",
       "      <td>37</td>\n",
       "      <td>0</td>\n",
       "      <td>0</td>\n",
       "    </tr>\n",
       "    <tr>\n",
       "      <th>504</th>\n",
       "      <td>0.0</td>\n",
       "      <td>2003 - Griff</td>\n",
       "      <td>1</td>\n",
       "      <td>ABAM</td>\n",
       "      <td>Abies_amabilis</td>\n",
       "      <td>24.384</td>\n",
       "      <td>26.21</td>\n",
       "      <td>0.42</td>\n",
       "      <td>0.42</td>\n",
       "      <td>37</td>\n",
       "      <td>0</td>\n",
       "      <td>0</td>\n",
       "    </tr>\n",
       "  </tbody>\n",
       "</table>\n",
       "</div>"
      ],
      "text/plain": [
       "     yr1status    YrFireName  Times_burned Species   Genus_species  DBH_cm  \\\n",
       "500        0.0  2003 - Griff             1    ABAM  Abies_amabilis  71.374   \n",
       "501        0.0  2003 - Griff             1    ABAM  Abies_amabilis  23.622   \n",
       "502        0.0  2003 - Griff             1    ABAM  Abies_amabilis  46.228   \n",
       "503        0.0  2003 - Griff             1    ABAM  Abies_amabilis  21.082   \n",
       "504        0.0  2003 - Griff             1    ABAM  Abies_amabilis  24.384   \n",
       "\n",
       "      HT_m  CR_pre  CR_post  YrFireName_cat  Species_cat  Genus_species_cat  \n",
       "500  41.76    0.84     0.74              37            0                  0  \n",
       "501  12.80    0.60     0.57              37            0                  0  \n",
       "502  34.75    0.75     0.59              37            0                  0  \n",
       "503  23.16    0.38     0.38              37            0                  0  \n",
       "504  26.21    0.42     0.42              37            0                  0  "
      ]
     },
     "execution_count": 6,
     "metadata": {},
     "output_type": "execute_result"
    }
   ],
   "source": [
    "# Look at the df\n",
    "trees_dat.head()"
   ]
  },
  {
   "cell_type": "markdown",
   "id": "fdcc4673-26dc-4c09-8c9a-0f2f97abe16f",
   "metadata": {},
   "source": [
    "2. Then we'll split into training and test data and scale for coefficient interpretability.  Recall that we use the training features to calculate our scaling parameters (mean and standard deviation) and apply the scaling to those training features (`scaler.fit_transform`) and then apply the scaling to the features in the test data as well (`scaler.transform`).\n"
   ]
  },
  {
   "cell_type": "code",
   "execution_count": 7,
   "id": "54b2f9d2-f414-4bf2-b0a3-51d55f3d997a",
   "metadata": {
    "tags": []
   },
   "outputs": [],
   "source": [
    "# Assign predictor and outcome variables \n",
    "X = trees_dat.drop(['yr1status', 'YrFireName', 'Species', 'Genus_species'], axis = 1)\n",
    "y = trees_dat['yr1status']\n",
    "\n",
    "# Split\n",
    "X_train, X_test, y_train, y_test = train_test_split(X, y, test_size = 0.3, random_state = 42)\n",
    "\n",
    "# Scale training features\n",
    "scaler = StandardScaler()\n",
    "X_train_scaled = scaler.fit_transform(X_train)\n",
    "X_test_scaled = scaler.fit_transform(X_test)"
   ]
  },
  {
   "cell_type": "markdown",
   "id": "3055eca1-9c22-4266-95a0-710b43be5a8e",
   "metadata": {},
   "source": [
    "3. How many training/test observations do we have? Print your answer in the cell below. "
   ]
  },
  {
   "cell_type": "code",
   "execution_count": 8,
   "id": "fdb4803d-8680-4ede-b790-3579f4a485e7",
   "metadata": {
    "tags": []
   },
   "outputs": [
    {
     "name": "stdout",
     "output_type": "stream",
     "text": [
      "Training set observations: 25556\n",
      "Testing set observations: 10953\n"
     ]
    }
   ],
   "source": [
    "# Verify the training and testing set size\n",
    "print(\"Training set observations:\", X_train_scaled.shape[0])\n",
    "print(\"Testing set observations:\", X_test_scaled.shape[0])"
   ]
  },
  {
   "cell_type": "markdown",
   "id": "4ca8857c",
   "metadata": {},
   "source": [
    "## Step 4: Train a Logistical Model\n",
    "Create a classifier using `LogisticRegression()` and fit it on the training data.  Then assess the model's accuracy on the training set by making predictions on the training data.  Calculate and **print** the accuracy of your model on the training set. "
   ]
  },
  {
   "cell_type": "code",
   "execution_count": 14,
   "id": "578b2ca5",
   "metadata": {
    "tags": []
   },
   "outputs": [
    {
     "name": "stdout",
     "output_type": "stream",
     "text": [
      "Training Accuracy: 94.51\n"
     ]
    }
   ],
   "source": [
    "# Create and fit Logistic Regression classifier\n",
    "classifier = LogisticRegression().fit(X_train_scaled, y_train)\n",
    "\n",
    "# Make predictions\n",
    "y_train_pred = classifier.predict(X_train_scaled)\n",
    "\n",
    "# Assess accuracy \n",
    "score = accuracy_score(y_train, y_train_pred)\n",
    "print(f\"Training Accuracy: {score * 100:.2f}\")"
   ]
  },
  {
   "cell_type": "markdown",
   "id": "34d86616",
   "metadata": {},
   "source": [
    "## Step 5: Test Set Predictions and Model Evaluation\n",
    "Now let's take our trained logistic classifier and make predictions on the test set. Calculate the accuracy and confusion matrix. Then use `sns.heatmap` for improved confusion matrix visualization."
   ]
  },
  {
   "cell_type": "code",
   "execution_count": 10,
   "id": "be4e4d6c",
   "metadata": {
    "tags": []
   },
   "outputs": [
    {
     "name": "stdout",
     "output_type": "stream",
     "text": [
      "Accuracy: 93.99%\n"
     ]
    },
    {
     "data": {
      "image/png": "[encoded data removed]",
      "text/plain": [
       "<Figure size 800x600 with 2 Axes>"
      ]
     },
     "metadata": {},
     "output_type": "display_data"
    }
   ],
   "source": [
    "# Make test predictions\n",
    "y_test_pred = classifier.predict(X_test_scaled)\n",
    "\n",
    "# Assess accuracy \n",
    "score2 = accuracy_score(y_test, y_test_pred)\n",
    "\n",
    "# Print evaluation metrics\n",
    "print(f\"Accuracy: {score2 * 100:.2f}%\")\n",
    "\n",
    "# Create confusion matrix\n",
    "cm = confusion_matrix(y_test, y_test_pred)\n",
    "\n",
    "# Plot confusion matrix\n",
    "plt.figure(figsize = (8,6))\n",
    "sns.heatmap(cm, fmt = 'd', cmap = 'Blues', xticklabels = ['Alive', 'Dead'],\n",
    "               yticklabels = ['Alive', 'Dead'], annot = True)\n",
    "plt.title('Logistic Regression Confusion Matrix: Alive vs Dead trees 1 year post burn')\n",
    "plt.ylabel('True Label')\n",
    "plt.xlabel('Predicted Label')\n",
    "plt.show()\n"
   ]
  },
  {
   "cell_type": "markdown",
   "id": "9b5cdbbb",
   "metadata": {},
   "source": [
    "## Step 6: Logistic Classifier Evaluation\n",
    "How did your model perform on the unseen data? \n",
    "Does your model perform differently on observations of trees that survived vs trees that died?\n",
    "Is there a class imbalance in this data set?"
   ]
  },
  {
   "cell_type": "code",
   "execution_count": 11,
   "id": "bc0d49c4-5d74-4064-b97d-6d36c54a039b",
   "metadata": {
    "tags": []
   },
   "outputs": [
    {
     "data": {
      "text/plain": [
       "yr1status\n",
       "0.0    33474\n",
       "1.0     3035\n",
       "Name: count, dtype: int64"
      ]
     },
     "execution_count": 11,
     "metadata": {},
     "output_type": "execute_result"
    }
   ],
   "source": [
    "# Check for class imbalance\n",
    "trees_dat['yr1status'].value_counts()"
   ]
  },
  {
   "cell_type": "markdown",
   "id": "7c651ef7",
   "metadata": {},
   "source": [
    "Overall, my model performed with 93.99% accuracy on the unseen data. Pretty good! \n",
    "\n",
    "The model performed much better on oberservations of trees that survived than trees that died. It predicted 9,844 of 10,033 alive trees correctly (sensitivity/true positive rate = 98.11%), but only 451 of 920 dead trees correctly (specificity/true negative rate = 49.02%).\n",
    "\n",
    "There is a class imbalance in this data set, with the surviving class (alive) having the highest representation. "
   ]
  },
  {
   "cell_type": "markdown",
   "id": "c60c7e36",
   "metadata": {},
   "source": [
    "## Step 7: What about a Dummy?\n",
    "What do you think would happen if we built a model that always predicts the majority class (alive trees)? How would its accuracy compare to your logistic regression model?"
   ]
  },
  {
   "cell_type": "markdown",
   "id": "e66ba576",
   "metadata": {},
   "source": [
    "If we built a model that always predicts the majority class, I think we would still have fairly high accuracy, given the large class imbalance. \n",
    "\n",
    "Compared to the model above, I would expect the accuracy to be about the same."
   ]
  },
  {
   "cell_type": "markdown",
   "id": "6854360d",
   "metadata": {},
   "source": [
    "Let's go ahead and do it: use `DummyClassifier()` with the appropriate value for the 'strategy' parameter to train a majority classifier.  Then calculate this model's accuracy on the training data."
   ]
  },
  {
   "cell_type": "code",
   "execution_count": 12,
   "id": "fe5b4015",
   "metadata": {
    "tags": []
   },
   "outputs": [
    {
     "name": "stdout",
     "output_type": "stream",
     "text": [
      "Dummy Accuracy: 91.72%\n",
      "\n",
      "Dummy Confusion Matrix:\n"
     ]
    },
    {
     "data": {
      "image/png": "[encoded data removed]",
      "text/plain": [
       "<Figure size 800x600 with 2 Axes>"
      ]
     },
     "metadata": {},
     "output_type": "display_data"
    }
   ],
   "source": [
    "# Create and fit a dummy majority classifier\n",
    "dummy = DummyClassifier(strategy = 'most_frequent').fit(X_train_scaled, y_train)\n",
    "\n",
    "# Make predictions on training data\n",
    "y_train_pred_dummy = dummy.predict(X_train_scaled)\n",
    "\n",
    "# Calculate accuracy\n",
    "dummy_accuracy = accuracy_score(y_train, y_train_pred_dummy)\n",
    "\n",
    "# Print accuracy and confusion matrix results\n",
    "print(f\"Dummy Accuracy: {dummy_accuracy * 100:.2f}%\")\n",
    "print(\"\\nDummy Confusion Matrix:\")\n",
    "\n",
    "# Create confusion matrix\n",
    "cm2 = confusion_matrix(y_train, y_train_pred_dummy)\n",
    "\n",
    "# Plot confusion matrix\n",
    "plt.figure(figsize = (8,6))\n",
    "sns.heatmap(cm2, fmt = 'd', cmap = 'Blues', xticklabels = ['Alive', 'Dead'],\n",
    "               yticklabels = ['Alive', 'Dead'], annot = True)\n",
    "plt.title('Dummy Confusion Matrix: Alive vs Dead trees 1 year post burn')\n",
    "plt.ylabel('True Label')\n",
    "plt.xlabel('Predicted Label')\n",
    "plt.show()"
   ]
  },
  {
   "cell_type": "markdown",
   "id": "e3445d23",
   "metadata": {},
   "source": [
    "# Step 8: ROCs and AUCs\n",
    "Our two models have similar accuracy, but is that all there is to this story?  Let's dig a little deeper on the comparison of our logistic and dummy classifiers by examining the associated receiver-operator characteristic (ROC) curves. Calculate the area under the curve (AUC) for both models."
   ]
  },
  {
   "cell_type": "code",
   "execution_count": 13,
   "id": "cef8515b",
   "metadata": {
    "tags": []
   },
   "outputs": [
    {
     "ename": "NameError",
     "evalue": "name 'y_pred_prob' is not defined",
     "output_type": "error",
     "traceback": [
      "\u001b[0;31m---------------------------------------------------------------------------\u001b[0m",
      "\u001b[0;31mNameError\u001b[0m                                 Traceback (most recent call last)",
      "Cell \u001b[0;32mIn[13], line 7\u001b[0m\n\u001b[1;32m      2\u001b[0m y_pred_prob_log \u001b[38;5;241m=\u001b[39m classifier\u001b[38;5;241m.\u001b[39mpredict_proba(X_test_scaled)\n\u001b[1;32m      4\u001b[0m \u001b[38;5;66;03m# Logistic classifier AUC\u001b[39;00m\n\u001b[0;32m----> 7\u001b[0m fpr, tpr, _ \u001b[38;5;241m=\u001b[39m roc_curve(y_test, \u001b[43my_pred_prob\u001b[49m)\n\u001b[1;32m      9\u001b[0m roc_auc \u001b[38;5;241m=\u001b[39m auc(fpr, tpr)\n\u001b[1;32m     11\u001b[0m \u001b[38;5;28mprint\u001b[39m(\u001b[38;5;124mf\u001b[39m\u001b[38;5;124m\"\u001b[39m\u001b[38;5;124mLogistic AUC: \u001b[39m\u001b[38;5;124m\"\u001b[39m)\n",
      "\u001b[0;31mNameError\u001b[0m: name 'y_pred_prob' is not defined"
     ]
    }
   ],
   "source": [
    "# Predict probabilities (??? do i need to do this?)\n",
    "y_pred_prob_log = classifier.predict_proba(X_test_scaled)\n",
    "\n",
    "# Logistic classifier AUC\n",
    "\n",
    "\n",
    "fpr, tpr, _ = roc_curve(y_test, y_pred_prob)\n",
    "    \n",
    "roc_auc = auc(fpr, tpr)\n",
    "\n",
    "print(f\"Logistic AUC: \")"
   ]
  },
  {
   "cell_type": "code",
   "execution_count": null,
   "id": "5180e8b8",
   "metadata": {
    "tags": []
   },
   "outputs": [],
   "source": [
    "# Dummy classifier AUC\n",
    "...\n",
    "print(f\"Dummy AUC: \")"
   ]
  },
  {
   "cell_type": "markdown",
   "id": "4acd252f",
   "metadata": {},
   "source": [
    "# Step 9: Plot dummy and logistic model ROC curves\n",
    "Now using the outputs from `roc_curve()`, plot the ROC curves for both models on the same plot.  Make sure to use appropriate labels in the legend."
   ]
  },
  {
   "cell_type": "code",
   "execution_count": null,
   "id": "03a7fe29",
   "metadata": {
    "tags": []
   },
   "outputs": [],
   "source": []
  },
  {
   "cell_type": "markdown",
   "id": "ec104e80",
   "metadata": {},
   "source": [
    "How do the two models compare on AUC?  What are the implications for evaluating classifiers based on accuracy of their predictions?"
   ]
  },
  {
   "cell_type": "markdown",
   "id": "a4ab1a30",
   "metadata": {},
   "source": [
    "*Your answer here*"
   ]
  },
  {
   "cell_type": "markdown",
   "id": "d1767d77",
   "metadata": {},
   "source": [
    "# Step 10: Final interpretation\n",
    "\n",
    "Identifying the most important features in a model can guide decision-making. For instance, in our dataset, highly important features might indicate key factors affecting tree survival after a fire. We will calculate the feature importance by examining the coefficients of our logistic regression model."
   ]
  },
  {
   "cell_type": "code",
   "execution_count": null,
   "id": "e0a97e03",
   "metadata": {
    "tags": []
   },
   "outputs": [],
   "source": [
    "...\n",
    "\n",
    "# Print the sorted feature importance\n",
    "print(importance_df)"
   ]
  },
  {
   "cell_type": "markdown",
   "id": "55d9db5d",
   "metadata": {},
   "source": [
    "Which are the most important features in our model (reference the metadata to help answer this)? Can you think of any implications for forest management or conservation strategy?"
   ]
  },
  {
   "cell_type": "markdown",
   "id": "bd42e56c",
   "metadata": {},
   "source": [
    "*Your answer here*"
   ]
  }
 ],
 "metadata": {
  "kernelspec": {
   "display_name": "Anaconda 3 (EDS232)",
   "language": "python",
   "name": "ml-env"
  },
  "language_info": {
   "codemirror_mode": {
    "name": "ipython",
    "version": 3
   },
   "file_extension": ".py",
   "mimetype": "text/x-python",
   "name": "python",
   "nbconvert_exporter": "python",
   "pygments_lexer": "ipython3",
   "version": "3.10.16"
  }
 },
 "nbformat": 4,
 "nbformat_minor": 5
}
